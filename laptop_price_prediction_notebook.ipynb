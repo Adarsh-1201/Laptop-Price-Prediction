{
 "cells": [
  {
   "cell_type": "markdown",
   "id": "fbe58574-75bc-415f-8bce-13e89ce4e02f",
   "metadata": {},
   "source": [
    "# Import necessary libraries"
   ]
  },
  {
   "cell_type": "code",
   "execution_count": 1,
   "id": "baf16899-061a-4700-af91-b4ee642f341f",
   "metadata": {},
   "outputs": [],
   "source": [
    "import pandas as pd\n",
    "import numpy as np\n",
    "import seaborn as sns\n",
    "import matplotlib.pyplot as plt\n",
    "from sklearn.model_selection import train_test_split, GridSearchCV\n",
    "from sklearn.preprocessing import StandardScaler, OneHotEncoder, LabelEncoder\n",
    "from sklearn.compose import ColumnTransformer\n",
    "from sklearn.pipeline import Pipeline\n",
    "from sklearn.linear_model import LinearRegression\n",
    "from sklearn.ensemble import RandomForestRegressor, GradientBoostingRegressor\n",
    "from sklearn.metrics import r2_score, mean_absolute_error, mean_squared_error\n",
    "from sklearn.impute import SimpleImputer\n",
    "import warnings\n",
    "warnings.filterwarnings('ignore')"
   ]
  },
  {
   "cell_type": "markdown",
   "id": "e53f21da-d8b0-4359-bf71-e5741873bc17",
   "metadata": {},
   "source": [
    "# Load and explore data"
   ]
  },
  {
   "cell_type": "code",
   "execution_count": 4,
   "id": "775b41e9-2da7-414d-8c17-e48a9402c8ef",
   "metadata": {},
   "outputs": [
    {
     "name": "stdout",
     "output_type": "stream",
     "text": [
      "Dataset Shape: (1303, 13)\n",
      "\n",
      "Missing Values:\n",
      "Unnamed: 0.1         0\n",
      "Unnamed: 0          30\n",
      "Company             30\n",
      "TypeName            30\n",
      "Inches              30\n",
      "ScreenResolution    30\n",
      "Cpu                 30\n",
      "Ram                 30\n",
      "Memory              30\n",
      "Gpu                 30\n",
      "OpSys               30\n",
      "Weight              30\n",
      "Price               30\n",
      "dtype: int64\n"
     ]
    }
   ],
   "source": [
    "# print dataset shape and missing values\n",
    "df = pd.read_csv('laptop.csv')\n",
    "print(f\"Dataset Shape: {df.shape}\")\n",
    "print(\"\\nMissing Values:\")\n",
    "print(df.isnull().sum())"
   ]
  },
  {
   "cell_type": "code",
   "execution_count": 5,
   "id": "40be9110-6b6b-4b65-bb61-64e4ee8dc2ec",
   "metadata": {},
   "outputs": [
    {
     "data": {
      "text/html": [
       "<div>\n",
       "<style scoped>\n",
       "    .dataframe tbody tr th:only-of-type {\n",
       "        vertical-align: middle;\n",
       "    }\n",
       "\n",
       "    .dataframe tbody tr th {\n",
       "        vertical-align: top;\n",
       "    }\n",
       "\n",
       "    .dataframe thead th {\n",
       "        text-align: right;\n",
       "    }\n",
       "</style>\n",
       "<table border=\"1\" class=\"dataframe\">\n",
       "  <thead>\n",
       "    <tr style=\"text-align: right;\">\n",
       "      <th></th>\n",
       "      <th>Unnamed: 0.1</th>\n",
       "      <th>Unnamed: 0</th>\n",
       "      <th>Company</th>\n",
       "      <th>TypeName</th>\n",
       "      <th>Inches</th>\n",
       "      <th>ScreenResolution</th>\n",
       "      <th>Cpu</th>\n",
       "      <th>Ram</th>\n",
       "      <th>Memory</th>\n",
       "      <th>Gpu</th>\n",
       "      <th>OpSys</th>\n",
       "      <th>Weight</th>\n",
       "      <th>Price</th>\n",
       "    </tr>\n",
       "  </thead>\n",
       "  <tbody>\n",
       "    <tr>\n",
       "      <th>0</th>\n",
       "      <td>0</td>\n",
       "      <td>0.0</td>\n",
       "      <td>Apple</td>\n",
       "      <td>Ultrabook</td>\n",
       "      <td>13.3</td>\n",
       "      <td>IPS Panel Retina Display 2560x1600</td>\n",
       "      <td>Intel Core i5 2.3GHz</td>\n",
       "      <td>8GB</td>\n",
       "      <td>128GB SSD</td>\n",
       "      <td>Intel Iris Plus Graphics 640</td>\n",
       "      <td>macOS</td>\n",
       "      <td>1.37kg</td>\n",
       "      <td>71378.6832</td>\n",
       "    </tr>\n",
       "    <tr>\n",
       "      <th>1</th>\n",
       "      <td>1</td>\n",
       "      <td>1.0</td>\n",
       "      <td>Apple</td>\n",
       "      <td>Ultrabook</td>\n",
       "      <td>13.3</td>\n",
       "      <td>1440x900</td>\n",
       "      <td>Intel Core i5 1.8GHz</td>\n",
       "      <td>8GB</td>\n",
       "      <td>128GB Flash Storage</td>\n",
       "      <td>Intel HD Graphics 6000</td>\n",
       "      <td>macOS</td>\n",
       "      <td>1.34kg</td>\n",
       "      <td>47895.5232</td>\n",
       "    </tr>\n",
       "    <tr>\n",
       "      <th>2</th>\n",
       "      <td>2</td>\n",
       "      <td>2.0</td>\n",
       "      <td>HP</td>\n",
       "      <td>Notebook</td>\n",
       "      <td>15.6</td>\n",
       "      <td>Full HD 1920x1080</td>\n",
       "      <td>Intel Core i5 7200U 2.5GHz</td>\n",
       "      <td>8GB</td>\n",
       "      <td>256GB SSD</td>\n",
       "      <td>Intel HD Graphics 620</td>\n",
       "      <td>No OS</td>\n",
       "      <td>1.86kg</td>\n",
       "      <td>30636.0000</td>\n",
       "    </tr>\n",
       "    <tr>\n",
       "      <th>3</th>\n",
       "      <td>3</td>\n",
       "      <td>3.0</td>\n",
       "      <td>Apple</td>\n",
       "      <td>Ultrabook</td>\n",
       "      <td>15.4</td>\n",
       "      <td>IPS Panel Retina Display 2880x1800</td>\n",
       "      <td>Intel Core i7 2.7GHz</td>\n",
       "      <td>16GB</td>\n",
       "      <td>512GB SSD</td>\n",
       "      <td>AMD Radeon Pro 455</td>\n",
       "      <td>macOS</td>\n",
       "      <td>1.83kg</td>\n",
       "      <td>135195.3360</td>\n",
       "    </tr>\n",
       "    <tr>\n",
       "      <th>4</th>\n",
       "      <td>4</td>\n",
       "      <td>4.0</td>\n",
       "      <td>Apple</td>\n",
       "      <td>Ultrabook</td>\n",
       "      <td>13.3</td>\n",
       "      <td>IPS Panel Retina Display 2560x1600</td>\n",
       "      <td>Intel Core i5 3.1GHz</td>\n",
       "      <td>8GB</td>\n",
       "      <td>256GB SSD</td>\n",
       "      <td>Intel Iris Plus Graphics 650</td>\n",
       "      <td>macOS</td>\n",
       "      <td>1.37kg</td>\n",
       "      <td>96095.8080</td>\n",
       "    </tr>\n",
       "  </tbody>\n",
       "</table>\n",
       "</div>"
      ],
      "text/plain": [
       "   Unnamed: 0.1  Unnamed: 0 Company   TypeName Inches  \\\n",
       "0             0         0.0   Apple  Ultrabook   13.3   \n",
       "1             1         1.0   Apple  Ultrabook   13.3   \n",
       "2             2         2.0      HP   Notebook   15.6   \n",
       "3             3         3.0   Apple  Ultrabook   15.4   \n",
       "4             4         4.0   Apple  Ultrabook   13.3   \n",
       "\n",
       "                     ScreenResolution                         Cpu   Ram  \\\n",
       "0  IPS Panel Retina Display 2560x1600        Intel Core i5 2.3GHz   8GB   \n",
       "1                            1440x900        Intel Core i5 1.8GHz   8GB   \n",
       "2                   Full HD 1920x1080  Intel Core i5 7200U 2.5GHz   8GB   \n",
       "3  IPS Panel Retina Display 2880x1800        Intel Core i7 2.7GHz  16GB   \n",
       "4  IPS Panel Retina Display 2560x1600        Intel Core i5 3.1GHz   8GB   \n",
       "\n",
       "                Memory                           Gpu  OpSys  Weight  \\\n",
       "0            128GB SSD  Intel Iris Plus Graphics 640  macOS  1.37kg   \n",
       "1  128GB Flash Storage        Intel HD Graphics 6000  macOS  1.34kg   \n",
       "2            256GB SSD         Intel HD Graphics 620  No OS  1.86kg   \n",
       "3            512GB SSD            AMD Radeon Pro 455  macOS  1.83kg   \n",
       "4            256GB SSD  Intel Iris Plus Graphics 650  macOS  1.37kg   \n",
       "\n",
       "         Price  \n",
       "0   71378.6832  \n",
       "1   47895.5232  \n",
       "2   30636.0000  \n",
       "3  135195.3360  \n",
       "4   96095.8080  "
      ]
     },
     "execution_count": 5,
     "metadata": {},
     "output_type": "execute_result"
    }
   ],
   "source": [
    "df.head(5)"
   ]
  },
  {
   "cell_type": "code",
   "execution_count": 6,
   "id": "8c347abd-bb8c-48d5-b5c8-3ddd3a109359",
   "metadata": {},
   "outputs": [
    {
     "data": {
      "image/png": "[encoded data removed]",
      "text/plain": [
       "<Figure size 1000x600 with 1 Axes>"
      ]
     },
     "metadata": {},
     "output_type": "display_data"
    }
   ],
   "source": [
    "# Visualize price distribution\n",
    "plt.figure(figsize=(10, 6))\n",
    "sns.histplot(df['Price'], kde=True)\n",
    "plt.title('Distribution of Laptop Prices')\n",
    "plt.show()"
   ]
  },
  {
   "cell_type": "code",
   "execution_count": 7,
   "id": "60db3103-58d8-4be4-9d54-06279a77cc57",
   "metadata": {},
   "outputs": [
    {
     "data": {
      "image/png": "[encoded data removed]",
      "text/plain": [
       "<Figure size 1200x800 with 2 Axes>"
      ]
     },
     "metadata": {},
     "output_type": "display_data"
    }
   ],
   "source": [
    "# Correlation analysis\n",
    "numeric_cols = df.select_dtypes(include=[np.number]).columns\n",
    "plt.figure(figsize=(12, 8))\n",
    "sns.heatmap(df[numeric_cols].corr(), annot=True, cmap='coolwarm')\n",
    "plt.title('Correlation Matrix')\n",
    "plt.show()"
   ]
  },
  {
   "cell_type": "markdown",
   "id": "2d2ba720-4ba4-4f6f-95f3-6d7ed332deb1",
   "metadata": {},
   "source": [
    "# Data Preprocessing and Feature Engineering"
   ]
  },
  {
   "cell_type": "code",
   "execution_count": 8,
   "id": "c0846c3f-1def-47c9-87c9-2e0a93adad7f",
   "metadata": {},
   "outputs": [],
   "source": [
    "# Create a copy of the dataframe\n",
    "df_processed = df.copy()"
   ]
  },
  {
   "cell_type": "code",
   "execution_count": 9,
   "id": "c4bfec34-f60b-4cf0-91bb-91b9e4b48bd7",
   "metadata": {},
   "outputs": [],
   "source": [
    "# Remove unnamed columns\n",
    "df_processed = df_processed.drop([col for col in df_processed.columns if 'Unnamed' in col], axis=1)"
   ]
  },
  {
   "cell_type": "code",
   "execution_count": 10,
   "id": "b66c07b6-dc83-4252-8cf0-c8aaa8c70c54",
   "metadata": {},
   "outputs": [
    {
     "data": {
      "text/plain": [
       "(1303, 11)"
      ]
     },
     "execution_count": 10,
     "metadata": {},
     "output_type": "execute_result"
    }
   ],
   "source": [
    "df_processed.shape"
   ]
  },
  {
   "cell_type": "code",
   "execution_count": 11,
   "id": "727c90a8-30ab-4343-a327-244d32b2c9ff",
   "metadata": {},
   "outputs": [
    {
     "data": {
      "text/html": [
       "<div>\n",
       "<style scoped>\n",
       "    .dataframe tbody tr th:only-of-type {\n",
       "        vertical-align: middle;\n",
       "    }\n",
       "\n",
       "    .dataframe tbody tr th {\n",
       "        vertical-align: top;\n",
       "    }\n",
       "\n",
       "    .dataframe thead th {\n",
       "        text-align: right;\n",
       "    }\n",
       "</style>\n",
       "<table border=\"1\" class=\"dataframe\">\n",
       "  <thead>\n",
       "    <tr style=\"text-align: right;\">\n",
       "      <th></th>\n",
       "      <th>Company</th>\n",
       "      <th>TypeName</th>\n",
       "      <th>Inches</th>\n",
       "      <th>ScreenResolution</th>\n",
       "      <th>Cpu</th>\n",
       "      <th>Ram</th>\n",
       "      <th>Memory</th>\n",
       "      <th>Gpu</th>\n",
       "      <th>OpSys</th>\n",
       "      <th>Weight</th>\n",
       "      <th>Price</th>\n",
       "    </tr>\n",
       "  </thead>\n",
       "  <tbody>\n",
       "    <tr>\n",
       "      <th>0</th>\n",
       "      <td>Apple</td>\n",
       "      <td>Ultrabook</td>\n",
       "      <td>13.3</td>\n",
       "      <td>IPS Panel Retina Display 2560x1600</td>\n",
       "      <td>Intel Core i5 2.3GHz</td>\n",
       "      <td>8GB</td>\n",
       "      <td>128GB SSD</td>\n",
       "      <td>Intel Iris Plus Graphics 640</td>\n",
       "      <td>macOS</td>\n",
       "      <td>1.37kg</td>\n",
       "      <td>71378.6832</td>\n",
       "    </tr>\n",
       "    <tr>\n",
       "      <th>1</th>\n",
       "      <td>Apple</td>\n",
       "      <td>Ultrabook</td>\n",
       "      <td>13.3</td>\n",
       "      <td>1440x900</td>\n",
       "      <td>Intel Core i5 1.8GHz</td>\n",
       "      <td>8GB</td>\n",
       "      <td>128GB Flash Storage</td>\n",
       "      <td>Intel HD Graphics 6000</td>\n",
       "      <td>macOS</td>\n",
       "      <td>1.34kg</td>\n",
       "      <td>47895.5232</td>\n",
       "    </tr>\n",
       "    <tr>\n",
       "      <th>2</th>\n",
       "      <td>HP</td>\n",
       "      <td>Notebook</td>\n",
       "      <td>15.6</td>\n",
       "      <td>Full HD 1920x1080</td>\n",
       "      <td>Intel Core i5 7200U 2.5GHz</td>\n",
       "      <td>8GB</td>\n",
       "      <td>256GB SSD</td>\n",
       "      <td>Intel HD Graphics 620</td>\n",
       "      <td>No OS</td>\n",
       "      <td>1.86kg</td>\n",
       "      <td>30636.0000</td>\n",
       "    </tr>\n",
       "    <tr>\n",
       "      <th>3</th>\n",
       "      <td>Apple</td>\n",
       "      <td>Ultrabook</td>\n",
       "      <td>15.4</td>\n",
       "      <td>IPS Panel Retina Display 2880x1800</td>\n",
       "      <td>Intel Core i7 2.7GHz</td>\n",
       "      <td>16GB</td>\n",
       "      <td>512GB SSD</td>\n",
       "      <td>AMD Radeon Pro 455</td>\n",
       "      <td>macOS</td>\n",
       "      <td>1.83kg</td>\n",
       "      <td>135195.3360</td>\n",
       "    </tr>\n",
       "    <tr>\n",
       "      <th>4</th>\n",
       "      <td>Apple</td>\n",
       "      <td>Ultrabook</td>\n",
       "      <td>13.3</td>\n",
       "      <td>IPS Panel Retina Display 2560x1600</td>\n",
       "      <td>Intel Core i5 3.1GHz</td>\n",
       "      <td>8GB</td>\n",
       "      <td>256GB SSD</td>\n",
       "      <td>Intel Iris Plus Graphics 650</td>\n",
       "      <td>macOS</td>\n",
       "      <td>1.37kg</td>\n",
       "      <td>96095.8080</td>\n",
       "    </tr>\n",
       "  </tbody>\n",
       "</table>\n",
       "</div>"
      ],
      "text/plain": [
       "  Company   TypeName Inches                    ScreenResolution  \\\n",
       "0   Apple  Ultrabook   13.3  IPS Panel Retina Display 2560x1600   \n",
       "1   Apple  Ultrabook   13.3                            1440x900   \n",
       "2      HP   Notebook   15.6                   Full HD 1920x1080   \n",
       "3   Apple  Ultrabook   15.4  IPS Panel Retina Display 2880x1800   \n",
       "4   Apple  Ultrabook   13.3  IPS Panel Retina Display 2560x1600   \n",
       "\n",
       "                          Cpu   Ram               Memory  \\\n",
       "0        Intel Core i5 2.3GHz   8GB            128GB SSD   \n",
       "1        Intel Core i5 1.8GHz   8GB  128GB Flash Storage   \n",
       "2  Intel Core i5 7200U 2.5GHz   8GB            256GB SSD   \n",
       "3        Intel Core i7 2.7GHz  16GB            512GB SSD   \n",
       "4        Intel Core i5 3.1GHz   8GB            256GB SSD   \n",
       "\n",
       "                            Gpu  OpSys  Weight        Price  \n",
       "0  Intel Iris Plus Graphics 640  macOS  1.37kg   71378.6832  \n",
       "1        Intel HD Graphics 6000  macOS  1.34kg   47895.5232  \n",
       "2         Intel HD Graphics 620  No OS  1.86kg   30636.0000  \n",
       "3            AMD Radeon Pro 455  macOS  1.83kg  135195.3360  \n",
       "4  Intel Iris Plus Graphics 650  macOS  1.37kg   96095.8080  "
      ]
     },
     "execution_count": 11,
     "metadata": {},
     "output_type": "execute_result"
    }
   ],
   "source": [
    "df_processed.head()"
   ]
  },
  {
   "cell_type": "code",
   "execution_count": 12,
   "id": "4586d96f-2944-414c-8eca-dc6efb565017",
   "metadata": {},
   "outputs": [],
   "source": [
    "# Remove null values\n",
    "df_processed = df_processed.dropna()"
   ]
  },
  {
   "cell_type": "code",
   "execution_count": 13,
   "id": "a4c43dd3-0dc5-4808-9d4e-a0b4aaaaed1a",
   "metadata": {},
   "outputs": [],
   "source": [
    "# Basic preprocessing\n",
    "df_processed['Ram'] = df_processed['Ram'].str.extract('(\\d+)').astype(float)\n",
    "df_processed['Weight'] = df_processed['Weight'].str.extract('(\\d+\\.?\\d*)').astype(float)"
   ]
  },
  {
   "cell_type": "code",
   "execution_count": 14,
   "id": "024faaab-b0e8-4722-8a5b-b4e4b211e5e9",
   "metadata": {},
   "outputs": [],
   "source": [
    "# Create CPU features\n",
    "df_processed['CPU_Speed'] = df_processed['Cpu'].str.extract('(\\d+\\.?\\d*)GHz').astype(float)\n",
    "df_processed['CPU_Brand'] = df_processed['Cpu'].apply(lambda x:\n",
    "    'Intel' if 'Intel' in str(x) else\n",
    "    'AMD' if 'AMD' in str(x) else 'Other'\n",
    ")\n",
    "\n",
    "# Create GPU features\n",
    "df_processed['GPU_Brand'] = df_processed['Gpu'].apply(lambda x:\n",
    "    'NVIDIA' if any(brand in str(x).upper() for brand in ['NVIDIA', 'GTX', 'RTX']) else\n",
    "    'AMD' if any(brand in str(x).upper() for brand in ['AMD', 'RADEON']) else\n",
    "    'Intel' if 'INTEL' in str(x).upper() else\n",
    "    'Other'\n",
    ")\n",
    "\n",
    "# Other features\n",
    "df_processed['TouchScreen'] = df_processed['ScreenResolution'].apply(lambda x: 1 if 'Touch' in str(x) else 0)\n",
    "df_processed['SSD'] = df_processed['Memory'].apply(lambda x: 1 if 'SSD' in str(x) else 0)\n",
    "df_processed['HDD'] = df_processed['Memory'].apply(lambda x: 1 if 'HDD' in str(x) else 0)"
   ]
  },
  {
   "cell_type": "code",
   "execution_count": 15,
   "id": "3ae4c35e-22f1-417c-a711-3d336e34ea65",
   "metadata": {},
   "outputs": [],
   "source": [
    "# Process Company\n",
    "major_companies = ['Apple', 'HP', 'Acer', 'Asus', 'Dell', 'Lenovo', 'MSI', 'Microsoft', 'Toshiba']\n",
    "df_processed['Company'] = df_processed['Company'].apply(lambda x: x if x in major_companies else 'Other')\n",
    "\n",
    "# Process OS\n",
    "df_processed['OpSys'] = df_processed['OpSys'].apply(lambda x:\n",
    "    'Windows' if 'Windows' in str(x) else\n",
    "    'Mac' if 'Mac' in str(x) else\n",
    "    'Linux' if 'Linux' in str(x) else\n",
    "    'Chrome' if 'Chrome' in str(x) else\n",
    "    'No OS' if 'No OS' in str(x) else\n",
    "    'Other'\n",
    ")\n",
    "df_processed.loc[df_processed['Company'] == 'Apple', 'OpSys'] = 'Mac'"
   ]
  },
  {
   "cell_type": "code",
   "execution_count": 16,
   "id": "0f43932d-5e5b-43e0-86fa-70dff1b551e5",
   "metadata": {},
   "outputs": [],
   "source": [
    "# Handle missing values in numerical features\n",
    "numerical_features = ['Ram', 'Weight', 'CPU_Speed']\n",
    "imputer = SimpleImputer(strategy='median')\n",
    "df_processed[numerical_features] = imputer.fit_transform(df_processed[numerical_features])"
   ]
  },
  {
   "cell_type": "code",
   "execution_count": 17,
   "id": "6a117f9b-67c6-407b-a64d-ad5c75993b9d",
   "metadata": {},
   "outputs": [
    {
     "data": {
      "text/plain": [
       "(1273, 17)"
      ]
     },
     "execution_count": 17,
     "metadata": {},
     "output_type": "execute_result"
    }
   ],
   "source": [
    "df_processed.shape"
   ]
  },
  {
   "cell_type": "code",
   "execution_count": 18,
   "id": "270c1f36-f031-456e-8b79-dc2eb0ed62b1",
   "metadata": {},
   "outputs": [
    {
     "data": {
      "text/html": [
       "<div>\n",
       "<style scoped>\n",
       "    .dataframe tbody tr th:only-of-type {\n",
       "        vertical-align: middle;\n",
       "    }\n",
       "\n",
       "    .dataframe tbody tr th {\n",
       "        vertical-align: top;\n",
       "    }\n",
       "\n",
       "    .dataframe thead th {\n",
       "        text-align: right;\n",
       "    }\n",
       "</style>\n",
       "<table border=\"1\" class=\"dataframe\">\n",
       "  <thead>\n",
       "    <tr style=\"text-align: right;\">\n",
       "      <th></th>\n",
       "      <th>Company</th>\n",
       "      <th>TypeName</th>\n",
       "      <th>Inches</th>\n",
       "      <th>ScreenResolution</th>\n",
       "      <th>Cpu</th>\n",
       "      <th>Ram</th>\n",
       "      <th>Memory</th>\n",
       "      <th>Gpu</th>\n",
       "      <th>OpSys</th>\n",
       "      <th>Weight</th>\n",
       "      <th>Price</th>\n",
       "      <th>CPU_Speed</th>\n",
       "      <th>CPU_Brand</th>\n",
       "      <th>GPU_Brand</th>\n",
       "      <th>TouchScreen</th>\n",
       "      <th>SSD</th>\n",
       "      <th>HDD</th>\n",
       "    </tr>\n",
       "  </thead>\n",
       "  <tbody>\n",
       "    <tr>\n",
       "      <th>0</th>\n",
       "      <td>Apple</td>\n",
       "      <td>Ultrabook</td>\n",
       "      <td>13.3</td>\n",
       "      <td>IPS Panel Retina Display 2560x1600</td>\n",
       "      <td>Intel Core i5 2.3GHz</td>\n",
       "      <td>8.0</td>\n",
       "      <td>128GB SSD</td>\n",
       "      <td>Intel Iris Plus Graphics 640</td>\n",
       "      <td>Mac</td>\n",
       "      <td>1.37</td>\n",
       "      <td>71378.6832</td>\n",
       "      <td>2.3</td>\n",
       "      <td>Intel</td>\n",
       "      <td>Intel</td>\n",
       "      <td>0</td>\n",
       "      <td>1</td>\n",
       "      <td>0</td>\n",
       "    </tr>\n",
       "    <tr>\n",
       "      <th>1</th>\n",
       "      <td>Apple</td>\n",
       "      <td>Ultrabook</td>\n",
       "      <td>13.3</td>\n",
       "      <td>1440x900</td>\n",
       "      <td>Intel Core i5 1.8GHz</td>\n",
       "      <td>8.0</td>\n",
       "      <td>128GB Flash Storage</td>\n",
       "      <td>Intel HD Graphics 6000</td>\n",
       "      <td>Mac</td>\n",
       "      <td>1.34</td>\n",
       "      <td>47895.5232</td>\n",
       "      <td>1.8</td>\n",
       "      <td>Intel</td>\n",
       "      <td>Intel</td>\n",
       "      <td>0</td>\n",
       "      <td>0</td>\n",
       "      <td>0</td>\n",
       "    </tr>\n",
       "    <tr>\n",
       "      <th>2</th>\n",
       "      <td>HP</td>\n",
       "      <td>Notebook</td>\n",
       "      <td>15.6</td>\n",
       "      <td>Full HD 1920x1080</td>\n",
       "      <td>Intel Core i5 7200U 2.5GHz</td>\n",
       "      <td>8.0</td>\n",
       "      <td>256GB SSD</td>\n",
       "      <td>Intel HD Graphics 620</td>\n",
       "      <td>No OS</td>\n",
       "      <td>1.86</td>\n",
       "      <td>30636.0000</td>\n",
       "      <td>2.5</td>\n",
       "      <td>Intel</td>\n",
       "      <td>Intel</td>\n",
       "      <td>0</td>\n",
       "      <td>1</td>\n",
       "      <td>0</td>\n",
       "    </tr>\n",
       "    <tr>\n",
       "      <th>3</th>\n",
       "      <td>Apple</td>\n",
       "      <td>Ultrabook</td>\n",
       "      <td>15.4</td>\n",
       "      <td>IPS Panel Retina Display 2880x1800</td>\n",
       "      <td>Intel Core i7 2.7GHz</td>\n",
       "      <td>16.0</td>\n",
       "      <td>512GB SSD</td>\n",
       "      <td>AMD Radeon Pro 455</td>\n",
       "      <td>Mac</td>\n",
       "      <td>1.83</td>\n",
       "      <td>135195.3360</td>\n",
       "      <td>2.7</td>\n",
       "      <td>Intel</td>\n",
       "      <td>AMD</td>\n",
       "      <td>0</td>\n",
       "      <td>1</td>\n",
       "      <td>0</td>\n",
       "    </tr>\n",
       "    <tr>\n",
       "      <th>4</th>\n",
       "      <td>Apple</td>\n",
       "      <td>Ultrabook</td>\n",
       "      <td>13.3</td>\n",
       "      <td>IPS Panel Retina Display 2560x1600</td>\n",
       "      <td>Intel Core i5 3.1GHz</td>\n",
       "      <td>8.0</td>\n",
       "      <td>256GB SSD</td>\n",
       "      <td>Intel Iris Plus Graphics 650</td>\n",
       "      <td>Mac</td>\n",
       "      <td>1.37</td>\n",
       "      <td>96095.8080</td>\n",
       "      <td>3.1</td>\n",
       "      <td>Intel</td>\n",
       "      <td>Intel</td>\n",
       "      <td>0</td>\n",
       "      <td>1</td>\n",
       "      <td>0</td>\n",
       "    </tr>\n",
       "  </tbody>\n",
       "</table>\n",
       "</div>"
      ],
      "text/plain": [
       "  Company   TypeName Inches                    ScreenResolution  \\\n",
       "0   Apple  Ultrabook   13.3  IPS Panel Retina Display 2560x1600   \n",
       "1   Apple  Ultrabook   13.3                            1440x900   \n",
       "2      HP   Notebook   15.6                   Full HD 1920x1080   \n",
       "3   Apple  Ultrabook   15.4  IPS Panel Retina Display 2880x1800   \n",
       "4   Apple  Ultrabook   13.3  IPS Panel Retina Display 2560x1600   \n",
       "\n",
       "                          Cpu   Ram               Memory  \\\n",
       "0        Intel Core i5 2.3GHz   8.0            128GB SSD   \n",
       "1        Intel Core i5 1.8GHz   8.0  128GB Flash Storage   \n",
       "2  Intel Core i5 7200U 2.5GHz   8.0            256GB SSD   \n",
       "3        Intel Core i7 2.7GHz  16.0            512GB SSD   \n",
       "4        Intel Core i5 3.1GHz   8.0            256GB SSD   \n",
       "\n",
       "                            Gpu  OpSys  Weight        Price  CPU_Speed  \\\n",
       "0  Intel Iris Plus Graphics 640    Mac    1.37   71378.6832        2.3   \n",
       "1        Intel HD Graphics 6000    Mac    1.34   47895.5232        1.8   \n",
       "2         Intel HD Graphics 620  No OS    1.86   30636.0000        2.5   \n",
       "3            AMD Radeon Pro 455    Mac    1.83  135195.3360        2.7   \n",
       "4  Intel Iris Plus Graphics 650    Mac    1.37   96095.8080        3.1   \n",
       "\n",
       "  CPU_Brand GPU_Brand  TouchScreen  SSD  HDD  \n",
       "0     Intel     Intel            0    1    0  \n",
       "1     Intel     Intel            0    0    0  \n",
       "2     Intel     Intel            0    1    0  \n",
       "3     Intel       AMD            0    1    0  \n",
       "4     Intel     Intel            0    1    0  "
      ]
     },
     "execution_count": 18,
     "metadata": {},
     "output_type": "execute_result"
    }
   ],
   "source": [
    "df_processed.head()"
   ]
  },
  {
   "cell_type": "code",
   "execution_count": 19,
   "id": "7e5184b5-47c9-4034-a848-0eec31ef6d3d",
   "metadata": {},
   "outputs": [],
   "source": [
    "# Define features and target variable\n",
    "features = ['Company', 'Ram', 'Weight', 'CPU_Brand', 'CPU_Speed',\n",
    "            'GPU_Brand', 'TouchScreen', 'OpSys', 'SSD', 'HDD']\n",
    "\n",
    "X = df_processed[features]\n",
    "y = df_processed['Price']"
   ]
  },
  {
   "cell_type": "code",
   "execution_count": 20,
   "id": "27f99512-33a6-4979-8500-53b5efe9edfe",
   "metadata": {},
   "outputs": [],
   "source": [
    "# Define categorical and numerical feature lists\n",
    "categorical_features = ['Company', 'CPU_Brand', 'GPU_Brand', 'OpSys']\n",
    "numerical_features = ['Ram', 'Weight', 'CPU_Speed', 'TouchScreen', 'SSD', 'HDD']"
   ]
  },
  {
   "cell_type": "code",
   "execution_count": 21,
   "id": "8903f90d-9a24-41b6-a44e-e4c790bb3aa5",
   "metadata": {},
   "outputs": [],
   "source": [
    "# Create preprocessors\n",
    "categorical_transformer = Pipeline(steps=[\n",
    "    ('imputer', SimpleImputer(strategy='constant', fill_value='Other')),\n",
    "    ('onehot', OneHotEncoder(drop='first', sparse_output=False, handle_unknown='ignore'))\n",
    "])\n",
    "\n",
    "numerical_transformer = Pipeline(steps=[\n",
    "    ('imputer', SimpleImputer(strategy='median'))\n",
    "])"
   ]
  },
  {
   "cell_type": "code",
   "execution_count": 22,
   "id": "8012f690-38c1-463e-8e39-4f16f0b8fe85",
   "metadata": {},
   "outputs": [],
   "source": [
    "# Combine preprocessors\n",
    "preprocessor = ColumnTransformer(\n",
    "    transformers=[\n",
    "        ('num', numerical_transformer, numerical_features),\n",
    "        ('cat', categorical_transformer, categorical_features)\n",
    "    ])"
   ]
  },
  {
   "cell_type": "code",
   "execution_count": 23,
   "id": "ca10d140-d967-4eb7-ae26-8f649b6879b1",
   "metadata": {},
   "outputs": [],
   "source": [
    "# Split the dataset into training and testing sets\n",
    "X_train, X_test, y_train, y_test = train_test_split(X, y, test_size=0.2, random_state=42)"
   ]
  },
  {
   "cell_type": "code",
   "execution_count": 24,
   "id": "8d403164-f3dc-48fd-afcf-3f97c9da7163",
   "metadata": {},
   "outputs": [],
   "source": [
    "# Transform the data using the preprocessor\n",
    "X_train_scaled = preprocessor.fit_transform(X_train)\n",
    "X_test_scaled = preprocessor.transform(X_test)"
   ]
  },
  {
   "cell_type": "code",
   "execution_count": 25,
   "id": "be4d0847-02fc-4c7e-9e55-44ec04e31e2e",
   "metadata": {},
   "outputs": [
    {
     "name": "stdout",
     "output_type": "stream",
     "text": [
      "X_train_scaled shape: (1018, 25)\n",
      "X_test_scaled shape: (255, 25)\n"
     ]
    }
   ],
   "source": [
    "# Display transformed data shapes\n",
    "print(\"X_train_scaled shape:\", X_train_scaled.shape)\n",
    "print(\"X_test_scaled shape:\", X_test_scaled.shape)"
   ]
  },
  {
   "cell_type": "markdown",
   "id": "9626d75b-7a22-4887-9801-f3f03ef81f7e",
   "metadata": {},
   "source": [
    "# Model Training and Evaluation"
   ]
  },
  {
   "cell_type": "markdown",
   "id": "ed19b677-7781-4df1-9e4b-3c53d7118de7",
   "metadata": {},
   "source": [
    "# Linear Regression"
   ]
  },
  {
   "cell_type": "code",
   "execution_count": 27,
   "id": "54d2dfb0-2d91-4059-bf46-59abb43d0185",
   "metadata": {},
   "outputs": [
    {
     "name": "stdout",
     "output_type": "stream",
     "text": [
      "\n",
      "Linear Regression Results:\n",
      "R² Score: 0.6351\n",
      "MAE: $16285.06\n",
      "RMSE: $23006.60\n",
      "MAPE: 30.32%\n",
      "Training Time: 0.01 seconds\n"
     ]
    }
   ],
   "source": [
    "from time import time\n",
    "lr_model = LinearRegression()\n",
    "\n",
    "start_time_lr = time()\n",
    "lr_model.fit(X_train_scaled, y_train)\n",
    "lr_pred = lr_model.predict(X_test_scaled)\n",
    "\n",
    "lr_r2 = r2_score(y_test, lr_pred)\n",
    "lr_mae = mean_absolute_error(y_test, lr_pred)\n",
    "lr_rmse = np.sqrt(mean_squared_error(y_test, lr_pred))\n",
    "lr_mape = np.mean(np.abs((y_test - lr_pred) / y_test)) * 100\n",
    "lr_training_time = time() - start_time_lr\n",
    "\n",
    "print(\"\\nLinear Regression Results:\")\n",
    "print(f\"R² Score: {lr_r2:.4f}\")\n",
    "print(f\"MAE: ${lr_mae:.2f}\")\n",
    "print(f\"RMSE: ${lr_rmse:.2f}\")\n",
    "print(f\"MAPE: {lr_mape:.2f}%\")\n",
    "print(f\"Training Time: {lr_training_time:.2f} seconds\")"
   ]
  },
  {
   "cell_type": "markdown",
   "id": "66e029f9-9453-401e-a609-1ee9de7919a0",
   "metadata": {},
   "source": [
    "# Random Forest"
   ]
  },
  {
   "cell_type": "code",
   "execution_count": 28,
   "id": "766e2251-52b3-4a03-8f37-2a3a36f7dcea",
   "metadata": {},
   "outputs": [
    {
     "name": "stdout",
     "output_type": "stream",
     "text": [
      "\n",
      "Random Forest Results:\n",
      "R² Score: 0.7537\n",
      "MAE: $10990.81\n",
      "RMSE: $18900.84\n",
      "MAPE: 17.90%\n",
      "Training Time: 0.38 seconds\n"
     ]
    }
   ],
   "source": [
    "rf_model = RandomForestRegressor(\n",
    "    n_estimators=100,\n",
    "    max_depth=None,\n",
    "    min_samples_split=2,\n",
    "    min_samples_leaf=1,\n",
    "    max_features='sqrt',\n",
    "    n_jobs=-1,\n",
    "    random_state=42\n",
    ")\n",
    "\n",
    "start_time_rf = time()\n",
    "rf_model.fit(X_train_scaled, y_train)\n",
    "rf_pred = rf_model.predict(X_test_scaled)\n",
    "\n",
    "rf_r2 = r2_score(y_test, rf_pred)\n",
    "rf_mae = mean_absolute_error(y_test, rf_pred)\n",
    "rf_rmse = np.sqrt(mean_squared_error(y_test, rf_pred))\n",
    "rf_mape = np.mean(np.abs((y_test - rf_pred) / y_test)) * 100\n",
    "rf_training_time = time() - start_time_rf\n",
    "\n",
    "print(\"\\nRandom Forest Results:\")\n",
    "print(f\"R² Score: {rf_r2:.4f}\")\n",
    "print(f\"MAE: ${rf_mae:.2f}\")\n",
    "print(f\"RMSE: ${rf_rmse:.2f}\")\n",
    "print(f\"MAPE: {rf_mape:.2f}%\")\n",
    "print(f\"Training Time: {rf_training_time:.2f} seconds\")"
   ]
  },
  {
   "cell_type": "markdown",
   "id": "1eb20d2a-e6d4-4ec3-ae3a-e4c17fbceaad",
   "metadata": {},
   "source": [
    "# Gradient Boosting"
   ]
  },
  {
   "cell_type": "code",
   "execution_count": 29,
   "id": "bcb12f72-3fcf-4efa-b46d-5220048d7946",
   "metadata": {},
   "outputs": [
    {
     "name": "stdout",
     "output_type": "stream",
     "text": [
      "\n",
      "Gradient Boosting Results:\n",
      "R² Score: 0.7675\n",
      "MAE: $12272.17\n",
      "RMSE: $18365.17\n",
      "MAPE: 21.11%\n",
      "Training Time: 0.26 seconds\n"
     ]
    }
   ],
   "source": [
    "gb_model = GradientBoostingRegressor(\n",
    "    n_estimators=100,\n",
    "    learning_rate=0.1,\n",
    "    max_depth=3,\n",
    "    min_samples_split=2,\n",
    "    min_samples_leaf=1,\n",
    "    subsample=1.0,\n",
    "    max_features=None,\n",
    "    random_state=42\n",
    ")\n",
    "\n",
    "start_time_gb = time()\n",
    "gb_model.fit(X_train_scaled, y_train)\n",
    "gb_pred = gb_model.predict(X_test_scaled)\n",
    "\n",
    "gb_r2 = r2_score(y_test, gb_pred)\n",
    "gb_mae = mean_absolute_error(y_test, gb_pred)\n",
    "gb_rmse = np.sqrt(mean_squared_error(y_test, gb_pred))\n",
    "gb_mape = np.mean(np.abs((y_test - gb_pred) / y_test)) * 100\n",
    "gb_training_time = time() - start_time_gb\n",
    "\n",
    "print(\"\\nGradient Boosting Results:\")\n",
    "print(f\"R² Score: {gb_r2:.4f}\")\n",
    "print(f\"MAE: ${gb_mae:.2f}\")\n",
    "print(f\"RMSE: ${gb_rmse:.2f}\")\n",
    "print(f\"MAPE: {gb_mape:.2f}%\")\n",
    "print(f\"Training Time: {gb_training_time:.2f} seconds\")"
   ]
  },
  {
   "cell_type": "markdown",
   "id": "4ba75fb9-2f55-4863-a8f0-ddafc4cfbf5b",
   "metadata": {},
   "source": [
    "# Store all Models"
   ]
  },
  {
   "cell_type": "code",
   "execution_count": 30,
   "id": "61a82c93-da4b-40d0-8d7c-234d90d999b3",
   "metadata": {},
   "outputs": [],
   "source": [
    "model_results = {\n",
    "    \"Linear Regression\": {\n",
    "        \"model\": lr_model,\n",
    "        \"r2\": lr_r2,\n",
    "        \"mae\": lr_mae,\n",
    "        \"rmse\": lr_rmse,\n",
    "        \"mape\": lr_mape,\n",
    "        \"training_time\": lr_training_time,\n",
    "        \"predictions\": lr_pred\n",
    "    },\n",
    "    \"Random Forest\": {\n",
    "        \"model\": rf_model,\n",
    "        \"r2\": rf_r2,\n",
    "        \"mae\": rf_mae,\n",
    "        \"rmse\": rf_rmse,\n",
    "        \"mape\": rf_mape,\n",
    "        \"training_time\": rf_training_time,\n",
    "        \"predictions\": rf_pred\n",
    "    },\n",
    "    \"Gradient Boosting\": {\n",
    "        \"model\": gb_model,\n",
    "        \"r2\": gb_r2,\n",
    "        \"mae\": gb_mae,\n",
    "        \"rmse\": gb_rmse,\n",
    "        \"mape\": gb_mape,\n",
    "        \"training_time\": gb_training_time,\n",
    "        \"predictions\": gb_pred\n",
    "    }\n",
    "}"
   ]
  },
  {
   "cell_type": "markdown",
   "id": "1fcd7554-58c3-476b-a62f-8ded502c0517",
   "metadata": {},
   "source": [
    "# Find Best Model"
   ]
  },
  {
   "cell_type": "code",
   "execution_count": 31,
   "id": "98347d2d-a947-4a23-b6b7-87455a17e177",
   "metadata": {},
   "outputs": [
    {
     "name": "stdout",
     "output_type": "stream",
     "text": [
      "\n",
      "Best Performing Model:\n",
      "Model: Gradient Boosting\n",
      "R² Score: 0.7675\n",
      "MAE: $12272.17\n"
     ]
    }
   ],
   "source": [
    "best_model_name, best_model_data = max(model_results.items(), key=lambda x: x[1]['r2'])\n",
    "\n",
    "print(\"\\nBest Performing Model:\")\n",
    "print(f\"Model: {best_model_name}\")\n",
    "print(f\"R² Score: {best_model_data['r2']:.4f}\")\n",
    "print(f\"MAE: ${best_model_data['mae']:.2f}\")"
   ]
  },
  {
   "cell_type": "markdown",
   "id": "9016185b-b5e7-4532-8abe-efe871ff0265",
   "metadata": {},
   "source": [
    "# Tuning Hyperparameters"
   ]
  },
  {
   "cell_type": "markdown",
   "id": "f465b7c3-5884-43ca-afd4-9add3cd5ac7e",
   "metadata": {},
   "source": [
    "## Linear Regression Tuning"
   ]
  },
  {
   "cell_type": "code",
   "execution_count": 32,
   "id": "15eabf5d-68a7-4163-bfe4-0b5eb5867859",
   "metadata": {},
   "outputs": [],
   "source": [
    "def tune_linear_regression(X_train_scaled, y_train):\n",
    "    lr = LinearRegression()\n",
    "    lr.fit(X_train_scaled, y_train)\n",
    "    print(\"\\nLinear Regression (No hyperparameters to tune)\")\n",
    "    return lr"
   ]
  },
  {
   "cell_type": "markdown",
   "id": "dfc25cb7-c990-4b41-9621-855fbd50d487",
   "metadata": {},
   "source": [
    "## Random Forest Tuning"
   ]
  },
  {
   "cell_type": "code",
   "execution_count": 33,
   "id": "c822874b-1593-483b-b85b-5b93932c95d3",
   "metadata": {},
   "outputs": [],
   "source": [
    "def tune_random_forest(X_train_scaled, y_train):\n",
    "    print(\"\\nTuning Random Forest Parameters:\")\n",
    "\n",
    "    param_grid = {\n",
    "        'n_estimators': [100],\n",
    "        'max_depth': [10, 15],\n",
    "        'min_samples_split': [5],\n",
    "        'min_samples_leaf': [2]\n",
    "    }\n",
    "\n",
    "    rf = RandomForestRegressor(random_state=42)\n",
    "    grid_search = GridSearchCV(\n",
    "        rf,\n",
    "        param_grid,\n",
    "        cv=3,\n",
    "        scoring='r2',\n",
    "        n_jobs=-1,\n",
    "        verbose=1\n",
    "    )\n",
    "\n",
    "    grid_search.fit(X_train_scaled, y_train)\n",
    "\n",
    "    print(\"Best Random Forest Parameters:\")\n",
    "    print(grid_search.best_params_)\n",
    "    print(f\"Best R2 score: {grid_search.best_score_:.4f}\")\n",
    "\n",
    "    return grid_search.best_estimator_"
   ]
  },
  {
   "cell_type": "markdown",
   "id": "0d335929-55e0-47ad-9883-33a0bc2b7ba3",
   "metadata": {},
   "source": [
    "## Gradient Boosting Tuning"
   ]
  },
  {
   "cell_type": "code",
   "execution_count": 34,
   "id": "e6c628e3-7328-49d5-b55d-fa26a3670e0a",
   "metadata": {},
   "outputs": [],
   "source": [
    "def tune_gradient_boosting(X_train_scaled, y_train):\n",
    "    print(\"\\nTuning Gradient Boosting Parameters:\")\n",
    "\n",
    "    param_grid = {\n",
    "        'n_estimators': [100],\n",
    "        'learning_rate': [0.1],\n",
    "        'max_depth': [3, 5],\n",
    "        'min_samples_split': [5],\n",
    "        'subsample': [0.8]\n",
    "    }\n",
    "\n",
    "    gb = GradientBoostingRegressor(random_state=42)\n",
    "    grid_search = GridSearchCV(\n",
    "        gb,\n",
    "        param_grid,\n",
    "        cv=3,\n",
    "        scoring='r2',\n",
    "        n_jobs=-1,\n",
    "        verbose=1\n",
    "    )\n",
    "\n",
    "    grid_search.fit(X_train_scaled, y_train)\n",
    "\n",
    "    print(\"Best Gradient Boosting Parameters:\")\n",
    "    print(grid_search.best_params_)\n",
    "    print(f\"Best R2 score: {grid_search.best_score_:.4f}\")\n",
    "\n",
    "    return grid_search.best_estimator_"
   ]
  },
  {
   "cell_type": "markdown",
   "id": "af7a2ce3-9fdc-40b5-9c86-721a5648a76b",
   "metadata": {},
   "source": [
    "## Combine Tuning for All Models"
   ]
  },
  {
   "cell_type": "code",
   "execution_count": 35,
   "id": "0818f30a-a16a-4629-858f-7e134c074225",
   "metadata": {},
   "outputs": [],
   "source": [
    "def tune_all_models(X_train_scaled, y_train):\n",
    "    best_models = {}\n",
    "\n",
    "    try:\n",
    "        best_models['Linear Regression'] = tune_linear_regression(X_train_scaled, y_train)\n",
    "        best_models['Random Forest'] = tune_random_forest(X_train_scaled, y_train)\n",
    "        best_models['Gradient Boosting'] = tune_gradient_boosting(X_train_scaled, y_train)\n",
    "\n",
    "    except KeyboardInterrupt:\n",
    "        print(\"\\nTuning interrupted by user. Returning best models found so far\")\n",
    "\n",
    "    return best_models"
   ]
  },
  {
   "cell_type": "markdown",
   "id": "8c2284b3-bd3f-4607-a949-898ed29acc09",
   "metadata": {},
   "source": [
    "## Evaluate Tuned Models"
   ]
  },
  {
   "cell_type": "code",
   "execution_count": 36,
   "id": "fbf366f4-97ef-4b86-a502-801beb27fdb0",
   "metadata": {},
   "outputs": [],
   "source": [
    "def evaluate_tuned_models(best_models, X_test_scaled, y_test):\n",
    "    print(\"\\nEvaluating Tuned Models:\")\n",
    "    results = {}\n",
    "\n",
    "    for name, model in best_models.items():\n",
    "        y_pred = model.predict(X_test_scaled)\n",
    "        r2 = r2_score(y_test, y_pred)\n",
    "        mae = mean_absolute_error(y_test, y_pred)\n",
    "\n",
    "        results[name] = {\n",
    "            'model': model,\n",
    "            'r2': r2,\n",
    "            'mae': mae\n",
    "        }\n",
    "\n",
    "        print(f\"\\n{name} Results:\")\n",
    "        print(f\"R2 Score: {r2:.4f}\")\n",
    "        print(f\"MAE: ${mae:.2f}\")\n",
    "\n",
    "    return results"
   ]
  },
  {
   "cell_type": "markdown",
   "id": "3ee86406-ca6d-4aeb-8e12-a485c5c3e301",
   "metadata": {},
   "source": [
    "## Final Execution"
   ]
  },
  {
   "cell_type": "code",
   "execution_count": 37,
   "id": "032c7582-e2c5-41dd-895a-9cf19305245c",
   "metadata": {},
   "outputs": [
    {
     "name": "stdout",
     "output_type": "stream",
     "text": [
      "\n",
      "Linear Regression (No hyperparameters to tune)\n",
      "\n",
      "Tuning Random Forest Parameters:\n",
      "Fitting 3 folds for each of 2 candidates, totalling 6 fits\n",
      "Best Random Forest Parameters:\n",
      "{'max_depth': 15, 'min_samples_leaf': 2, 'min_samples_split': 5, 'n_estimators': 100}\n",
      "Best R2 score: 0.7311\n",
      "\n",
      "Tuning Gradient Boosting Parameters:\n",
      "Fitting 3 folds for each of 2 candidates, totalling 6 fits\n",
      "Best Gradient Boosting Parameters:\n",
      "{'learning_rate': 0.1, 'max_depth': 5, 'min_samples_split': 5, 'n_estimators': 100, 'subsample': 0.8}\n",
      "Best R2 score: 0.7560\n",
      "\n",
      "Evaluating Tuned Models:\n",
      "\n",
      "Linear Regression Results:\n",
      "R2 Score: 0.6351\n",
      "MAE: $16285.06\n",
      "\n",
      "Random Forest Results:\n",
      "R2 Score: 0.7728\n",
      "MAE: $11304.20\n",
      "\n",
      "Gradient Boosting Results:\n",
      "R2 Score: 0.7885\n",
      "MAE: $11554.87\n",
      "\n",
      "Best performing model: Gradient Boosting\n",
      "R2 Score: 0.7885\n",
      "MAE: $11554.87\n"
     ]
    }
   ],
   "source": [
    "try:\n",
    "    best_models = tune_all_models(X_train_scaled, y_train)\n",
    "    tuned_results = evaluate_tuned_models(best_models, X_test_scaled, y_test)\n",
    "\n",
    "    best_model_name = max(tuned_results.items(), key=lambda x: x[1]['r2'])[0]\n",
    "    print(f\"\\nBest performing model: {best_model_name}\")\n",
    "    print(f\"R2 Score: {tuned_results[best_model_name]['r2']:.4f}\")\n",
    "    print(f\"MAE: ${tuned_results[best_model_name]['mae']:.2f}\")\n",
    "\n",
    "except KeyboardInterrupt:\n",
    "    print(\"\\nProcess interrupted by user. Showing partial results if available.\")"
   ]
  },
  {
   "cell_type": "markdown",
   "id": "69924fd8-df0e-4c96-85de-c7bde9e19c57",
   "metadata": {},
   "source": [
    "## Transform Feature Names"
   ]
  },
  {
   "cell_type": "code",
   "execution_count": 38,
   "id": "eacd4285-34f6-4676-94ba-8bef8dc30c50",
   "metadata": {},
   "outputs": [],
   "source": [
    "def get_feature_names(preprocessor, original_features):\n",
    "    feature_names = []\n",
    "\n",
    "    for name, transformer, features in preprocessor.transformers_:\n",
    "        if name == 'num':\n",
    "            feature_names.extend(features)\n",
    "        elif name == 'cat':\n",
    "            encoded_features = transformer.named_steps['onehot'].get_feature_names_out(features)\n",
    "            feature_names.extend(encoded_features)\n",
    "\n",
    "    return feature_names"
   ]
  },
  {
   "cell_type": "markdown",
   "id": "658898d3-4844-4700-8fb2-473438dc490f",
   "metadata": {},
   "source": [
    "## Analyzing Feature Importance"
   ]
  },
  {
   "cell_type": "code",
   "execution_count": 39,
   "id": "c58672ad-0e0f-4a38-b495-785a288dc942",
   "metadata": {},
   "outputs": [],
   "source": [
    "def analyze_feature_importance(models, preprocessor, original_features):\n",
    "    feature_names = get_feature_names(preprocessor, original_features)\n",
    "    importance_dict = {}\n",
    "\n",
    "    try:\n",
    "        for name, model in models.items():\n",
    "            if name == 'Linear Regression':\n",
    "                importance = np.abs(model.coef_)\n",
    "            elif name in ['Random Forest', 'Gradient Boosting']:\n",
    "                importance = model.feature_importances_\n",
    "\n",
    "            importance_df = pd.DataFrame({\n",
    "                'Feature': feature_names,\n",
    "                'Importance': importance\n",
    "            })\n",
    "\n",
    "            importance_df = importance_df.sort_values('Importance', ascending=False).reset_index(drop=True)\n",
    "            importance_dict[name] = importance_df\n",
    "\n",
    "            # Display values\n",
    "            print(f\"\\n{name} Feature Importance Values:\")\n",
    "            print(importance_df.to_string(index=True))\n",
    "\n",
    "            # Plot top 10\n",
    "            plt.figure(figsize=(10, 6))\n",
    "            sns.barplot(data=importance_df.head(10), x='Importance', y='Feature')\n",
    "            plt.title(f'{name} - Feature Importance')\n",
    "            plt.xlabel('Importance')\n",
    "            plt.ylabel('Features')\n",
    "            plt.tight_layout()\n",
    "            plt.show()\n",
    "\n",
    "    except Exception as e:\n",
    "        print(f\"Error in feature importance analysis: {str(e)}\")\n",
    "\n",
    "    return importance_dict"
   ]
  },
  {
   "cell_type": "markdown",
   "id": "b3a4438b-2900-43c1-b098-e08572f9b793",
   "metadata": {},
   "source": [
    "## Analyze & Visualize Across Models"
   ]
  },
  {
   "cell_type": "code",
   "execution_count": 40,
   "id": "9b4da3b6-e6fe-4ce8-bd88-6a10015a2917",
   "metadata": {},
   "outputs": [
    {
     "name": "stdout",
     "output_type": "stream",
     "text": [
      "\n",
      "Linear Regression Feature Importance Values:\n",
      "              Feature    Importance\n",
      "0       Company_Other  23496.366820\n",
      "1       Company_Apple  21051.245280\n",
      "2           OpSys_Mac  21051.245280\n",
      "3         OpSys_No OS  18369.773159\n",
      "4   Company_Microsoft  17114.759083\n",
      "5          Company_HP  16975.177477\n",
      "6                 SSD  15480.720265\n",
      "7           CPU_Speed  15449.085618\n",
      "8     Company_Toshiba  14911.403315\n",
      "9         Company_MSI  14171.244329\n",
      "10   GPU_Brand_NVIDIA  13733.636180\n",
      "11    CPU_Brand_Intel  13551.617297\n",
      "12        TouchScreen  13370.603706\n",
      "13       Company_Dell  12691.308461\n",
      "14     Company_Lenovo  10100.945976\n",
      "15        OpSys_Linux   9068.352949\n",
      "16    GPU_Brand_Intel   8153.015022\n",
      "17       Company_Asus   7801.444637\n",
      "18                Ram   2918.549336\n",
      "19             Weight   2668.493304\n",
      "20        OpSys_Other   2417.742849\n",
      "21      OpSys_Windows   1353.082640\n",
      "22                HDD   1347.634655\n",
      "23    GPU_Brand_Other    936.636880\n",
      "24    CPU_Brand_Other    936.636880\n"
     ]
    },
    {
     "data": {
      "image/png": "[encoded data removed]",
      "text/plain": [
       "<Figure size 1000x600 with 1 Axes>"
      ]
     },
     "metadata": {},
     "output_type": "display_data"
    },
    {
     "name": "stdout",
     "output_type": "stream",
     "text": [
      "\n",
      "Random Forest Feature Importance Values:\n",
      "              Feature  Importance\n",
      "0                 Ram    0.608469\n",
      "1              Weight    0.162121\n",
      "2           CPU_Speed    0.117365\n",
      "3                 SSD    0.021772\n",
      "4         TouchScreen    0.010562\n",
      "5       Company_Other    0.009703\n",
      "6                 HDD    0.009667\n",
      "7          Company_HP    0.008784\n",
      "8       OpSys_Windows    0.008504\n",
      "9        Company_Dell    0.008481\n",
      "10       Company_Asus    0.006928\n",
      "11     Company_Lenovo    0.006848\n",
      "12    GPU_Brand_Intel    0.005556\n",
      "13   GPU_Brand_NVIDIA    0.004913\n",
      "14    CPU_Brand_Intel    0.004681\n",
      "15        Company_MSI    0.003134\n",
      "16        OpSys_No OS    0.000749\n",
      "17    Company_Toshiba    0.000631\n",
      "18          OpSys_Mac    0.000454\n",
      "19        OpSys_Linux    0.000370\n",
      "20      Company_Apple    0.000280\n",
      "21  Company_Microsoft    0.000028\n",
      "22    CPU_Brand_Other    0.000000\n",
      "23    GPU_Brand_Other    0.000000\n",
      "24        OpSys_Other    0.000000\n"
     ]
    },
    {
     "data": {
      "image/png": "[encoded data removed]",
      "text/plain": [
       "<Figure size 1000x600 with 1 Axes>"
      ]
     },
     "metadata": {},
     "output_type": "display_data"
    },
    {
     "name": "stdout",
     "output_type": "stream",
     "text": [
      "\n",
      "Gradient Boosting Feature Importance Values:\n",
      "              Feature  Importance\n",
      "0                 Ram    0.552999\n",
      "1              Weight    0.161036\n",
      "2           CPU_Speed    0.125382\n",
      "3                 SSD    0.030658\n",
      "4       Company_Other    0.025023\n",
      "5          Company_HP    0.016977\n",
      "6         TouchScreen    0.011253\n",
      "7     CPU_Brand_Intel    0.010164\n",
      "8                 HDD    0.009755\n",
      "9    GPU_Brand_NVIDIA    0.009525\n",
      "10      OpSys_Windows    0.009335\n",
      "11       Company_Dell    0.008529\n",
      "12       Company_Asus    0.007337\n",
      "13     Company_Lenovo    0.005512\n",
      "14        Company_MSI    0.004440\n",
      "15    GPU_Brand_Intel    0.003786\n",
      "16        OpSys_No OS    0.002285\n",
      "17        OpSys_Linux    0.001882\n",
      "18          OpSys_Mac    0.001587\n",
      "19      Company_Apple    0.001338\n",
      "20    Company_Toshiba    0.000720\n",
      "21  Company_Microsoft    0.000416\n",
      "22    CPU_Brand_Other    0.000038\n",
      "23    GPU_Brand_Other    0.000024\n",
      "24        OpSys_Other    0.000000\n"
     ]
    },
    {
     "data": {
      "image/png": "[encoded data removed]",
      "text/plain": [
       "<Figure size 1000x600 with 1 Axes>"
      ]
     },
     "metadata": {},
     "output_type": "display_data"
    },
    {
     "data": {
      "image/png": "[encoded data removed]",
      "text/plain": [
       "<Figure size 1500x600 with 3 Axes>"
      ]
     },
     "metadata": {},
     "output_type": "display_data"
    }
   ],
   "source": [
    "try:\n",
    "    original_features = ['Company', 'Ram', 'Weight', 'CPU_Brand', 'CPU_Speed',\n",
    "                         'GPU_Brand', 'TouchScreen', 'OpSys', 'SSD', 'HDD']\n",
    "\n",
    "    importance_dict = analyze_feature_importance(best_models, preprocessor, original_features)\n",
    "\n",
    "    # Compare top 5 features across models\n",
    "    plt.figure(figsize=(15, 6))\n",
    "    model_names = list(importance_dict.keys())\n",
    "\n",
    "    for i, model_name in enumerate(model_names):\n",
    "        top_features = importance_dict[model_name].head(5)\n",
    "\n",
    "        plt.subplot(1, len(model_names), i+1)\n",
    "        sns.barplot(data=top_features, x='Importance', y='Feature')\n",
    "        plt.title(f'{model_name}\\nTop 5 Features')\n",
    "        plt.xlabel('Importance')\n",
    "        if i == 0:\n",
    "            plt.ylabel('Features')\n",
    "        else:\n",
    "            plt.ylabel('')\n",
    "\n",
    "    plt.tight_layout()\n",
    "    plt.show()\n",
    "\n",
    "except Exception as e:\n",
    "    print(f\"Error in visualization: {str(e)}\")"
   ]
  },
  {
   "cell_type": "markdown",
   "id": "8d52df34-ddcf-42dc-87c6-14a8e0d86ad9",
   "metadata": {},
   "source": [
    "# Real Time Prediction"
   ]
  },
  {
   "cell_type": "markdown",
   "id": "ed4f01ab-77bb-46bc-9d26-5a0286f13418",
   "metadata": {},
   "source": [
    "## Laptop Specification Collector"
   ]
  },
  {
   "cell_type": "code",
   "execution_count": 41,
   "id": "10c06802-c9a7-492e-b3c7-1721b5030276",
   "metadata": {},
   "outputs": [],
   "source": [
    "def create_laptop_input():\n",
    "    print(\"\\nEnter Laptop Specifications:\")\n",
    "\n",
    "    company_options = {\n",
    "        0: 'Acer', 1: 'Apple', 2: 'Asus', 3: 'Dell', 4: 'HP',\n",
    "        5: 'Lenovo', 6: 'MSI', 7: 'Microsoft', 8: 'Toshiba', 9: 'Other'\n",
    "    }\n",
    "    print(\"\\nCompany Options:\")\n",
    "    for key, value in company_options.items():\n",
    "        print(f\"{key}: {value}\")\n",
    "    company = company_options[int(input(\"Enter company number: \"))]\n",
    "\n",
    "    ram_options = [4, 8, 16, 32, 64]\n",
    "    print(\"\\nRAM Options (GB):\")\n",
    "    for i, ram in enumerate(ram_options):\n",
    "        print(f\"{i}: {ram}GB\")\n",
    "    ram = ram_options[int(input(\"Enter RAM choice: \"))]\n",
    "\n",
    "    weight = float(input(\"\\nEnter Weight (kg): \"))\n",
    "\n",
    "    cpu_options = {0: 'Intel', 1: 'AMD', 2: 'Other'}\n",
    "    print(\"\\nCPU Brand Options:\")\n",
    "    for key, value in cpu_options.items():\n",
    "        print(f\"{key}: {value}\")\n",
    "    cpu_brand = cpu_options[int(input(\"Enter CPU brand number: \"))]\n",
    "\n",
    "    print(\"\\nTypical CPU Speed ranges:\")\n",
    "    print(\"1.8 GHz - 2.2 GHz (Low Power)\")\n",
    "    print(\"2.3 GHz - 2.8 GHz (Mid Range)\")\n",
    "    print(\"2.9 GHz - 3.6 GHz (High Performance)\")\n",
    "    cpu_speed = float(input(\"\\nEnter CPU Speed (GHz): \"))\n",
    "\n",
    "    gpu_options = {0: 'NVIDIA', 1: 'AMD', 2: 'Intel', 3: 'Other'}\n",
    "    print(\"\\nGPU Brand Options:\")\n",
    "    for key, value in gpu_options.items():\n",
    "        print(f\"{key}: {value}\")\n",
    "    gpu_brand = gpu_options[int(input(\"Enter GPU brand number: \"))]\n",
    "\n",
    "    touchscreen = int(input(\"\\nTouchscreen (0: No, 1: Yes): \"))\n",
    "\n",
    "    os_options = {\n",
    "        0: 'Windows', 1: 'Mac', 2: 'Linux', 3: 'Chrome',\n",
    "        4: 'No OS', 5: 'Other'\n",
    "    }\n",
    "    print(\"\\nOperating System Options:\")\n",
    "    for key, value in os_options.items():\n",
    "        print(f\"{key}: {value}\")\n",
    "    os = os_options[int(input(\"Enter OS number: \"))]\n",
    "\n",
    "    print(\"\\nStorage Options:\")\n",
    "    ssd = int(input(\"SSD (0: No, 1: Yes): \"))\n",
    "    hdd = int(input(\"HDD (0: No, 1: Yes): \"))\n",
    "\n",
    "    new_laptop = pd.DataFrame([[\n",
    "        company, ram, weight, cpu_brand, cpu_speed,\n",
    "        gpu_brand, touchscreen, os, ssd, hdd\n",
    "    ]], columns=['Company', 'Ram', 'Weight', 'CPU_Brand', 'CPU_Speed',\n",
    "                 'GPU_Brand', 'TouchScreen', 'OpSys', 'SSD', 'HDD'])\n",
    "\n",
    "    # Confirmation\n",
    "    print(\"\\nSelected Specifications:\")\n",
    "    for col in new_laptop.columns:\n",
    "        val = new_laptop.at[0, col]\n",
    "        print(f\"{col}: {val if not isinstance(val, int) else ('Yes' if val == 1 else 'No') if col in ['SSD', 'HDD', 'TouchScreen'] else val}\")\n",
    "\n",
    "    confirm = input(\"\\nConfirm specifications? (yes/no): \")\n",
    "    return new_laptop if confirm.lower() == 'yes' else create_laptop_input()"
   ]
  },
  {
   "cell_type": "markdown",
   "id": "41946918-ce26-4a97-a7a7-b2295e48ebe5",
   "metadata": {},
   "source": [
    "## Prediction Function"
   ]
  },
  {
   "cell_type": "code",
   "execution_count": 42,
   "id": "5653e93f-366e-46c5-8f14-c25cc89aa342",
   "metadata": {},
   "outputs": [],
   "source": [
    "def predict_price(models, preprocessor, new_laptop):\n",
    "    predictions = {}\n",
    "    try:\n",
    "        new_laptop_transformed = preprocessor.transform(new_laptop)\n",
    "        for name, model in models.items():\n",
    "            predictions[name] = model.predict(new_laptop_transformed)[0]\n",
    "        return predictions\n",
    "    except Exception as e:\n",
    "        print(f\"Error in prediction: {str(e)}\")\n",
    "        return None"
   ]
  },
  {
   "cell_type": "markdown",
   "id": "11c688da-1003-4f1a-88dd-3b967cc2b861",
   "metadata": {},
   "source": [
    "## Prediction Output Formatter"
   ]
  },
  {
   "cell_type": "code",
   "execution_count": 43,
   "id": "60f8618f-bd1f-4cf3-805c-daaa437f79b1",
   "metadata": {},
   "outputs": [],
   "source": [
    "def display_prediction_results(predictions):\n",
    "    if predictions:\n",
    "        print(\"\\nPredicted Prices:\")\n",
    "        prices = list(predictions.values())\n",
    "        avg_price = np.mean(prices)\n",
    "        min_price = np.min(prices)\n",
    "        max_price = np.max(prices)\n",
    "\n",
    "        for model_name, price in predictions.items():\n",
    "            print(f\"{model_name}: ${price:,.2f}\")\n",
    "\n",
    "        print(\"\\nSummary:\")\n",
    "        print(f\"Average Price: ${avg_price:,.2f}\")\n",
    "        print(f\"Price Range: ${min_price:,.2f} - ${max_price:,.2f}\")\n",
    "    else:\n",
    "        print(\"Unable to make predictions. Please check the input values.\")"
   ]
  },
  {
   "cell_type": "markdown",
   "id": "1cdba808-7470-46fc-a194-62a153db7d92",
   "metadata": {},
   "source": [
    "## Main Execution Block"
   ]
  },
  {
   "cell_type": "code",
   "execution_count": 45,
   "id": "a4f00611-64d4-43eb-996c-3f6b2adb91b6",
   "metadata": {},
   "outputs": [
    {
     "name": "stdout",
     "output_type": "stream",
     "text": [
      "\n",
      "Enter Laptop Specifications:\n",
      "\n",
      "Company Options:\n",
      "0: Acer\n",
      "1: Apple\n",
      "2: Asus\n",
      "3: Dell\n",
      "4: HP\n",
      "5: Lenovo\n",
      "6: MSI\n",
      "7: Microsoft\n",
      "8: Toshiba\n",
      "9: Other\n"
     ]
    },
    {
     "name": "stdin",
     "output_type": "stream",
     "text": [
      "Enter company number:  4\n"
     ]
    },
    {
     "name": "stdout",
     "output_type": "stream",
     "text": [
      "\n",
      "RAM Options (GB):\n",
      "0: 4GB\n",
      "1: 8GB\n",
      "2: 16GB\n",
      "3: 32GB\n",
      "4: 64GB\n"
     ]
    },
    {
     "name": "stdin",
     "output_type": "stream",
     "text": [
      "Enter RAM choice:  1\n",
      "\n",
      "Enter Weight (kg):  1.6\n"
     ]
    },
    {
     "name": "stdout",
     "output_type": "stream",
     "text": [
      "\n",
      "CPU Brand Options:\n",
      "0: Intel\n",
      "1: AMD\n",
      "2: Other\n"
     ]
    },
    {
     "name": "stdin",
     "output_type": "stream",
     "text": [
      "Enter CPU brand number:  0\n"
     ]
    },
    {
     "name": "stdout",
     "output_type": "stream",
     "text": [
      "\n",
      "Typical CPU Speed ranges:\n",
      "1.8 GHz - 2.2 GHz (Low Power)\n",
      "2.3 GHz - 2.8 GHz (Mid Range)\n",
      "2.9 GHz - 3.6 GHz (High Performance)\n"
     ]
    },
    {
     "name": "stdin",
     "output_type": "stream",
     "text": [
      "\n",
      "Enter CPU Speed (GHz):  2.2\n"
     ]
    },
    {
     "name": "stdout",
     "output_type": "stream",
     "text": [
      "\n",
      "GPU Brand Options:\n",
      "0: NVIDIA\n",
      "1: AMD\n",
      "2: Intel\n",
      "3: Other\n"
     ]
    },
    {
     "name": "stdin",
     "output_type": "stream",
     "text": [
      "Enter GPU brand number:  2\n",
      "\n",
      "Touchscreen (0: No, 1: Yes):  1\n"
     ]
    },
    {
     "name": "stdout",
     "output_type": "stream",
     "text": [
      "\n",
      "Operating System Options:\n",
      "0: Windows\n",
      "1: Mac\n",
      "2: Linux\n",
      "3: Chrome\n",
      "4: No OS\n",
      "5: Other\n"
     ]
    },
    {
     "name": "stdin",
     "output_type": "stream",
     "text": [
      "Enter OS number:  0\n"
     ]
    },
    {
     "name": "stdout",
     "output_type": "stream",
     "text": [
      "\n",
      "Storage Options:\n"
     ]
    },
    {
     "name": "stdin",
     "output_type": "stream",
     "text": [
      "SSD (0: No, 1: Yes):  1\n",
      "HDD (0: No, 1: Yes):  0\n"
     ]
    },
    {
     "name": "stdout",
     "output_type": "stream",
     "text": [
      "\n",
      "Selected Specifications:\n",
      "Company: HP\n",
      "Ram: 8\n",
      "Weight: 1.6\n",
      "CPU_Brand: Intel\n",
      "CPU_Speed: 2.2\n",
      "GPU_Brand: Intel\n",
      "TouchScreen: 1\n",
      "OpSys: Windows\n",
      "SSD: 1\n",
      "HDD: 0\n"
     ]
    },
    {
     "name": "stdin",
     "output_type": "stream",
     "text": [
      "\n",
      "Confirm specifications? (yes/no):  yes\n"
     ]
    },
    {
     "name": "stdout",
     "output_type": "stream",
     "text": [
      "\n",
      "Predicted Prices:\n",
      "Linear Regression: $78,514.16\n",
      "Random Forest: $52,287.01\n",
      "Gradient Boosting: $58,846.92\n",
      "\n",
      "Summary:\n",
      "Average Price: $63,216.03\n",
      "Price Range: $52,287.01 - $78,514.16\n"
     ]
    }
   ],
   "source": [
    "try:\n",
    "    new_laptop = create_laptop_input()\n",
    "    predictions = predict_price(best_models, preprocessor, new_laptop)\n",
    "    display_prediction_results(predictions)\n",
    "except Exception as e:\n",
    "    print(f\"An error occurred: {str(e)}\")\n",
    "    print(\"Please try again.\")"
   ]
  }
 ],
 "metadata": {
  "kernelspec": {
   "display_name": "Python 3 (ipykernel)",
   "language": "python",
   "name": "python3"
  },
  "language_info": {
   "codemirror_mode": {
    "name": "ipython",
    "version": 3
   },
   "file_extension": ".py",
   "mimetype": "text/x-python",
   "name": "python",
   "nbconvert_exporter": "python",
   "pygments_lexer": "ipython3",
   "version": "3.13.1"
  }
 },
 "nbformat": 4,
 "nbformat_minor": 5
}
